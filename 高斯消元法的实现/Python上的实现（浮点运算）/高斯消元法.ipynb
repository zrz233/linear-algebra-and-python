{
 "cells": [
  {
   "cell_type": "code",
   "execution_count": 1,
   "metadata": {
    "collapsed": true
   },
   "outputs": [
    {
     "name": "stdout",
     "output_type": "stream",
     "text": [
      "原矩阵\n",
      "[[  1.   2.  13.   4.  22.]\n",
      " [  5.   6.   7.   8.  11.]\n",
      " [  9.  11.  32.  12. -31.]\n",
      " [ 12. 121.  43.  42. -31.]]\n",
      "三角矩阵\n",
      "[[ 1.00000000e+00  2.00000000e+00  1.30000000e+01  4.00000000e+00\n",
      "   2.20000000e+01]\n",
      " [ 0.00000000e+00 -4.00000000e+00 -5.80000000e+01 -1.20000000e+01\n",
      "  -9.90000000e+01]\n",
      " [ 0.00000000e+00  0.00000000e+00  1.65000000e+01 -3.00000000e+00\n",
      "  -5.57500000e+01]\n",
      " [ 0.00000000e+00  0.00000000e+00  0.00000000e+00 -5.73272727e+02\n",
      "  -7.82981818e+03]]\n",
      "方程的解\n",
      "[[-14.51173486  -3.23961307  -0.89549635  13.65810339]]\n"
     ]
    }
   ],
   "source": [
    "#author:zrz\n",
    "# coding: utf8\n",
    "import numpy as np\n",
    "\n",
    "def matrixInput() -> object:\n",
    "    matrix_a: object = np.mat([[1, 2, 13, 4],\n",
    "                       [5, 6, 7, 8],\n",
    "                       [9, 11, 32, 12],\n",
    "                       [12, 121, 43, 42]], dtype=float)\n",
    "    matrix_b: object = np.mat([22, 11, -31, -31])\n",
    "    return matrix_a, matrix_b\n",
    "\n",
    "\n",
    "def Elimination(mat_a):\n",
    "    for i in range(0, (mat_a.shape[0]) - 1):\n",
    "        if mat_a[i, i] != 0:\n",
    "            for j in range(i + 1, mat_a.shape[0]):\n",
    "                mat_a[j:j + 1, :] = mat_a[j:j + 1, :] - \\\n",
    "                                    (mat_a[j, i] / mat_a[i, i]) * mat_a[i, :]\n",
    "        else:\n",
    "            print(\"终断运算：\")\n",
    "            print(mat_a)\n",
    "            break\n",
    "    return mat_a\n",
    "\n",
    "def back(new_mat: object):\n",
    "    x = np.mat(np.zeros(new_mat.shape[0], dtype=float))\n",
    "    number = x.shape[1] - 1\n",
    "    b = number + 1\n",
    "    x[0, number] = new_mat[number, b] / new_mat[number, number]\n",
    "    for i in range(number - 1, -1, -1):\n",
    "        try:\n",
    "            x[0, i] = (new_mat[i, b] - np.sum(np.multiply(new_mat[i, i + 1:b], x[0, i + 1:b]))) / (new_mat[i, i])\n",
    "        except:\n",
    "            print(\"错误\")\n",
    "    print(x)\n",
    "\n",
    "\n",
    "if __name__ == \"__main__\":\n",
    "    mat_a, mat_b = matrixInput()\n",
    "    print(\"原矩阵\")\n",
    "    print(np.hstack((mat_a, mat_b.T)))\n",
    "    new_mat = Elimination(np.hstack((mat_a, mat_b.T)))\n",
    "    print(\"三角矩阵\")\n",
    "    print(new_mat)\n",
    "    print(\"方程的解\")\n",
    "    back(new_mat)\n"
   ]
  }
 ],
 "metadata": {
  "kernelspec": {
   "display_name": "Python 3",
   "language": "python",
   "name": "python3"
  },
  "language_info": {
   "codemirror_mode": {
    "name": "ipython",
    "version": 2
   },
   "file_extension": ".py",
   "mimetype": "text/x-python",
   "name": "python",
   "nbconvert_exporter": "python",
   "pygments_lexer": "ipython2",
   "version": "2.7.6"
  }
 },
 "nbformat": 4,
 "nbformat_minor": 0
}