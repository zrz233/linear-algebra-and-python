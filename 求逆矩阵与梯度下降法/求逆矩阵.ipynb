{
 "cells": [
  {
   "cell_type": "code",
   "execution_count": 1,
   "metadata": {
    "collapsed": true
   },
   "outputs": [
    {
     "name": "stdout",
     "output_type": "stream",
     "text": [
      "[[ 0.0625     -0.125       0.0625    ]\n",
      " [-0.625      -1.75        1.375     ]\n",
      " [ 0.47916667  1.70833333 -1.1875    ]]\n"
     ]
    }
   ],
   "source": [
    "#第一种方法：调用库函数\n",
    "# coding: utf8\n",
    "\n",
    "import numpy as np\n",
    "#mat_a=np.mat([[1,2],[3,4]])\n",
    "mat_a=np.mat([[13,2,3],[4,5,6],[11,8,9]])\n",
    "print(mat_a.I)"
   ]
  },
  {
   "cell_type": "code",
   "execution_count": null,
   "outputs": [],
   "source": [
    "#第二种方法：高斯约当消元法\n",
    "# coding: utf8\n",
    "\n",
    "import numpy as np\n",
    "\n",
    "def Elimination(mat_a):\n",
    "    for i in range(0, (mat_a.shape[0]) - 1):#可迭代对象range  #shape[0]\n",
    "        if mat_a[i, i] != 0:\n",
    "            for j in range(i + 1, mat_a.shape[0]):\n",
    "                mat_a[j:j + 1, :] = mat_a[j:j + 1, :] - \\\n",
    "                                    (mat_a[j, i] / mat_a[i, i]) * mat_a[i, :]\n",
    "        else:\n",
    "            print(\"终断运算：\")\n",
    "            print(mat_a)\n",
    "            break\n",
    "    return mat_a\n",
    "\n",
    "def simplify(mat_a):\n",
    "    for i in range((mat_a.shape[0])-1,0,-1):#可迭代对象range  #shape[0]\n",
    "        if mat_a[i, i] != 0:\n",
    "            for j in range(i-1,-1,-1):\n",
    "                mat_a[j, :] = mat_a[j, :] -\\\n",
    "                              (mat_a[j, i] / mat_a[i, i]) * mat_a[i, :]\n",
    "        else:\n",
    "            print(\"终断运算：\")\n",
    "            print(mat_a)\n",
    "            break\n",
    "\n",
    "    for i in range(0, (mat_a.shape[0])):\n",
    "        if mat_a[i, i] != 0:\n",
    "                mat_a[i, :] = mat_a[i, :]/(mat_a[i, i])\n",
    "        else:\n",
    "            print(\"终断运算：\")\n",
    "            print(mat_a)\n",
    "            break\n",
    "    return mat_a\n",
    "\n",
    "if __name__ == \"__main__\":\n",
    "    mat_a=np.mat([[13,2,3],[4,5,6],[11,8,9]])\n",
    "    iden_mat = np.mat(np.identity(mat_a.shape[0]))\n",
    "    eli_mat=Elimination(np.hstack((mat_a,iden_mat)))\n",
    "\n",
    "    sim_mat=(simplify(eli_mat))\n",
    "    print(sim_mat[:,sim_mat.shape[0]:sim_mat.shape[1]])"
   ],
   "metadata": {
    "collapsed": false,
    "pycharm": {
     "name": "#%%\n",
     "is_executing": true
    }
   }
  }
 ],
 "metadata": {
  "kernelspec": {
   "display_name": "Python 3",
   "language": "python",
   "name": "python3"
  },
  "language_info": {
   "codemirror_mode": {
    "name": "ipython",
    "version": 2
   },
   "file_extension": ".py",
   "mimetype": "text/x-python",
   "name": "python",
   "nbconvert_exporter": "python",
   "pygments_lexer": "ipython2",
   "version": "2.7.6"
  }
 },
 "nbformat": 4,
 "nbformat_minor": 0
}